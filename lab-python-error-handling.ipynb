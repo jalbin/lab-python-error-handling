{
 "cells": [
  {
   "cell_type": "markdown",
   "metadata": {},
   "source": [
    "# Lab | Error Handling"
   ]
  },
  {
   "cell_type": "markdown",
   "metadata": {},
   "source": [
    "## Exercise: Error Handling for Managing Customer Orders\n",
    "\n",
    "The implementation of your code for managing customer orders assumes that the user will always enter a valid input. \n",
    "\n",
    "For example, we could modify the `initialize_inventory` function to include error handling.\n",
    "   - If the user enters an invalid quantity (e.g., a negative value or a non-numeric value), display an error message and ask them to re-enter the quantity for that product.\n",
    "   - Use a try-except block to handle the error and continue prompting the user until a valid quantity is entered.\n",
    "\n",
    "Let's enhance your code by implementing error handling to handle invalid inputs.\n",
    "\n",
    "Follow the steps below to complete the exercise:\n",
    "\n",
    "2. Modify the `calculate_total_price` function to include error handling.\n",
    "   - If the user enters an invalid price (e.g., a negative value or a non-numeric value), display an error message and ask them to re-enter the price for that product.\n",
    "   - Use a try-except block to handle the error and continue prompting the user until a valid price is entered.\n",
    "\n",
    "3. Modify the `get_customer_orders` function to include error handling.\n",
    "   - If the user enters an invalid number of orders (e.g., a negative value or a non-numeric value), display an error message and ask them to re-enter the number of orders.\n",
    "   - If the user enters an invalid product name (e.g., a product name that is not in the inventory), or that doesn't have stock available, display an error message and ask them to re-enter the product name. *Hint: you will need to pass inventory as a parameter*\n",
    "   - Use a try-except block to handle the error and continue prompting the user until a valid product name is entered.\n",
    "\n",
    "4. Test your code by running the program and deliberately entering invalid quantities and product names. Make sure the error handling mechanism works as expected.\n"
   ]
  },
  {
   "cell_type": "code",
   "execution_count": 138,
   "metadata": {},
   "outputs": [],
   "source": [
    "def initialize_inventory(products):\n",
    "    for product in products:\n",
    "        while True:\n",
    "            try:\n",
    "                quantity = int(input(f\"Enter the quantity for {product}: \"))\n",
    "                break\n",
    "            except ValueError as err:\n",
    "                print(f\"Please enter a valid integer for {product}.\",err)\n",
    "        inventory[product] = quantity"
   ]
  },
  {
   "cell_type": "code",
   "execution_count": 139,
   "metadata": {},
   "outputs": [],
   "source": [
    "def get_customer_orders():\n",
    "    valid = False\n",
    "    while not valid:\n",
    "        try:\n",
    "            n = int(input(\"Enter the number of customer orders: \"))\n",
    "            if n >= 0:    valid = True\n",
    "            else:    print(\"Enter a valid number.\")\n",
    "        except ValueError as val:\n",
    "            print(\"Enter a valid number.\", val)                \n",
    "            \n",
    "    for i in range(n):\n",
    "        while True:\n",
    "            try:\n",
    "                order = input(\"Enter the name of a product to order: \")\n",
    "                assert order in inventory\n",
    "                if not inventory[order] > 0: raise ValueError(f\" No more product '{order}' at the moment\")\n",
    "                customer_orders.add(order)\n",
    "                break\n",
    "            except AssertionError as asrt:\n",
    "                print(f\"Error: Unknown product {order} .\", asrt)\n",
    "            except Exception as e: \n",
    "                print(\"Error:\", str(e))\n",
    "    return customer_orders"
   ]
  },
  {
   "cell_type": "code",
   "execution_count": 140,
   "metadata": {},
   "outputs": [],
   "source": [
    "def update_inventory(customer_orders,inventory):\n",
    "    for item in customer_orders:\n",
    "        inventory[item] = inventory[item] - 1"
   ]
  },
  {
   "cell_type": "code",
   "execution_count": 141,
   "metadata": {},
   "outputs": [],
   "source": [
    "def calculate_order_statistics(customer_orders,products):\n",
    "    return (len(customer_orders),100*len(customer_orders)/len(products))"
   ]
  },
  {
   "cell_type": "code",
   "execution_count": 142,
   "metadata": {},
   "outputs": [],
   "source": [
    "def print_order_statistics(order_statistics):\n",
    "    print(f\"Order Statistics:\")\n",
    "    print(f\"Total Products Ordered: {order_statistics[0]}\")\n",
    "    print(f\"Percentage of Products Ordered: {order_statistics[1]}%\")"
   ]
  },
  {
   "cell_type": "code",
   "execution_count": 143,
   "metadata": {},
   "outputs": [],
   "source": [
    "def print_updated_inventory(inventory):\n",
    "    for k,v in inventory.items(): print(f\"{k} : {v}\")"
   ]
  },
  {
   "cell_type": "code",
   "execution_count": 144,
   "metadata": {},
   "outputs": [
    {
     "name": "stdout",
     "output_type": "stream",
     "text": [
      "Enter the quantity for t-shirt: 2\n",
      "Enter the quantity for mug: 1\n",
      "Enter the quantity for hat: 0\n",
      "Enter the quantity for book: 4\n",
      "Enter the quantity for keychain: dsfs\n",
      "Please enter a valid integer for keychain. invalid literal for int() with base 10: 'dsfs'\n",
      "Enter the quantity for keychain: 4\n",
      "Enter the number of customer orders: Oops a typo!\n",
      "Enter a valid number. invalid literal for int() with base 10: 'Oops a typo!'\n",
      "Enter the number of customer orders: 3\n",
      "Enter the name of a product to order: mug\n",
      "Enter the name of a product to order: A Red Ferrari\n",
      "Error: Unknown product A Red Ferrari . \n",
      "Enter the name of a product to order: book\n",
      "Enter the name of a product to order: hat\n",
      "Error:  No more product 'hat' at the moment\n",
      "Enter the name of a product to order: keychain\n",
      "Order Statistics:\n",
      "Total Products Ordered: 3\n",
      "Percentage of Products Ordered: 60.0%\n",
      "t-shirt : 2\n",
      "mug : 0\n",
      "hat : 0\n",
      "book : 3\n",
      "keychain : 3\n"
     ]
    }
   ],
   "source": [
    "products = [\"t-shirt\", \"mug\", \"hat\", \"book\", \"keychain\"]\n",
    "inventory = {}\n",
    "customer_orders = set()\n",
    "\n",
    "initialize_inventory(products)\n",
    "get_customer_orders()\n",
    "update_inventory(customer_orders,inventory)\n",
    "print_order_statistics(calculate_order_statistics(customer_orders,products))\n",
    "print_updated_inventory(inventory)"
   ]
  },
  {
   "cell_type": "code",
   "execution_count": null,
   "metadata": {},
   "outputs": [],
   "source": []
  },
  {
   "cell_type": "code",
   "execution_count": null,
   "metadata": {},
   "outputs": [],
   "source": []
  }
 ],
 "metadata": {
  "kernelspec": {
   "display_name": "Python 3",
   "language": "python",
   "name": "python3"
  },
  "language_info": {
   "codemirror_mode": {
    "name": "ipython",
    "version": 3
   },
   "file_extension": ".py",
   "mimetype": "text/x-python",
   "name": "python",
   "nbconvert_exporter": "python",
   "pygments_lexer": "ipython3",
   "version": "3.7.6"
  }
 },
 "nbformat": 4,
 "nbformat_minor": 5
}
